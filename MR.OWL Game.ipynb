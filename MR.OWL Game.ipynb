
print("\nWelcome to Dinner with an Owl.")
print("You are Mr. Webb, a dapper businessman visiting the mansion of Franz Brown for a potential business partnership.")
print("Upon arriving, you discover a surreal and eerie situation: Mr. Brown has the head of an owl and is hosting a strange dinner party with several captive guests.")
print("Your goal is to help yourself and the other guests escape the mansion, or be trapped dining with Mr. Brown forever.")
input("Press Enter to continue...")

trust_level = 0
suspicion_level = 0
inventory = []


print("\nAs you approach the mansion, the heavy iron gates creak open on their own. The butler, a pale man with hollow eyes, greets you silently and leads you to the grand dining room.")
print("The table is lavishly set, but an ominous air hangs over the room.")
input("Press Enter to continue...")

print("\nThe dinner begins. The atmosphere is tense, and Mr. Owl watches everyone closely.")
events = [
    {
        "text": "The butler asks you to take a seat at the long dining table. Do you:",
        "choices": [
            {"text": "Sit at the head of the table.", "suspicion": 2, "trust": 0, "is_correct": False},
            {"text": "Sit at a seat near the middle.", "suspicion": 0, "trust": 1, "is_correct": True},
        ],
    },
    {
        "text": "Mr. Owl serves a dish with an unidentifiable aroma. Do you:",
        "choices": [
            {"text": "Taste the dish out of politeness.", "suspicion": -1, "trust": 1, "is_correct": True},
            {"text": "Refuse to eat it.", "suspicion": 2, "trust": -1, "is_correct": False},
        ],
    },
    {
        "text": "A guest whispers to you about a hidden key in the library. Do you:",
        "choices": [
            {"text": "Excuse yourself and search the library.", "suspicion": 1, "trust": 2, "is_correct": True},
            {"text": "Ignore the guest and stay seated.", "suspicion": 0, "trust": -1, "is_correct": False},
        ],
    },
    {
        "text": "A loud thud echoes from upstairs. Mr. Owl asks if you heard it. Do you:",
        "choices": [
            {"text": "Say you heard it.", "suspicion": 2, "trust": 0, "is_correct": False},
            {"text": "Deny hearing anything.", "suspicion": 0, "trust": 1, "is_correct": True},
        ],
    },
    {
        "text": "The maid hints at a secret passage behind a painting in the hallway. Do you:",
        "choices": [
            {"text": "Investigate the hallway after dinner.", "suspicion": 1, "trust": 2, "is_correct": True},
            {"text": "Stay in the dining room to avoid suspicion.", "suspicion": -1, "trust": 0, "is_correct": False},
        ],
    },
]


for event in events:
    print(f"\n{event['text']}")
    for idx, choice in enumerate(event["choices"], start=1):
        print(f"{idx}. {choice['text']}")

    while True:
        try:
            choice = int(input("Choose your action (1/2): ")) - 1
            if 0 <= choice < len(event["choices"]):
                chosen = event["choices"][choice]
                suspicion_level += chosen["suspicion"]
                trust_level += chosen["trust"]
                if chosen["is_correct"]:
                    print("Mr. Owl: Interesting choice. Proceed.")
                else:
                    print("Mr. Owl: Your choice displeases me. The mansion has no mercy for mistakes.")
                    print(f"You chose poorly: '{chosen['text']}'.")
                    print("You are now one of the mansion's permanent guests.")
                    exit()
                break
            else:
                raise ValueError
        except ValueError:
            print("Invalid input. Please choose 1 or 2.")


print("\nAfter dinner, you have a brief window to explore the mansion while Mr. Owl retires to his study.")
print("Choose where to investigate:")
print("1. The Library")
print("2. The Hallway")
print("3. The Basement")
print("4. The Garden")

key_found = False
passage_found = False

while True:
    try:
        choice = int(input("Choose your action (1/2/3/4): "))
        if choice == 1:
            print("\nIn the library, you find a dusty old book with a hollowed-out compartment containing a key.")
            key_found = True
            inventory.append("key")
            break
        elif choice == 2:
            print("\nIn the hallway, you discover a painting slightly ajar, revealing a secret passage leading outside.")
            passage_found = True
            break
        elif choice == 3:
            print("\nThe basement is dark and foreboding. You hear unsettling whispers and find strange carvings on the walls.")
            suspicion_level += 2
            break
        elif choice == 4:
            print("\nIn the garden, under the shadow of a gnarled tree, you find an inscription warning: 'The owl sees all. Choose wisely.'")
            trust_level += 1
            break
        else:
            raise ValueError
    except ValueError:
        print("Invalid input. Please choose 1, 2, 3, or 4.")


if suspicion_level > 5:
    print("\nMr. Owl: You've attracted too much attention. The mansion has claimed you.")
    print("You are now one of its permanent residents.")
    exit()
elif key_found and passage_found:
    print("\nYou find the secret passage and unlock it with the key.")
    print("You quickly gather the other guests and lead them through the passage to safety.")
    print("\nMr. Owl lets out a deafening screech as you all flee into the night.")
    print("You leave the mansion behind, never looking back.")
    print("Congratulations! You successfully helped all the guests escape the mansion.")
    exit()
elif passage_found:
    print("\nYou find the secret passage, but it's locked. Without the key, you can't escape.")
    print("The dinner continues, and you are forever trapped.")
    exit()
else:
    print("\nYou failed to make the right choices and are trapped.")
    print("Mr. Owl: The mansion never forgets a misstep.")
    print("The evening ends abruptly. You are now a permanent guest.")
    exit()
